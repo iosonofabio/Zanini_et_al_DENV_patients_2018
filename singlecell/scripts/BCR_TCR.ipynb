{
 "cells": [
  {
   "cell_type": "markdown",
   "metadata": {
    "toc": "true"
   },
   "source": [
    "# Table of Contents\n",
    " <p><div class=\"lev1 toc-item\"><a href=\"#Loading\" data-toc-modified-id=\"Loading-1\"><span class=\"toc-item-num\">1&nbsp;&nbsp;</span>Loading</a></div><div class=\"lev1 toc-item\"><a href=\"#T-cells\" data-toc-modified-id=\"T-cells-2\"><span class=\"toc-item-num\">2&nbsp;&nbsp;</span>T cells</a></div><div class=\"lev2 toc-item\"><a href=\"#Clonal-families\" data-toc-modified-id=\"Clonal-families-2.1\"><span class=\"toc-item-num\">2.1&nbsp;&nbsp;</span>Clonal families</a></div><div class=\"lev3 toc-item\"><a href=\"#TCR-beta-/-delta\" data-toc-modified-id=\"TCR-beta-/-delta-2.1.1\"><span class=\"toc-item-num\">2.1.1&nbsp;&nbsp;</span>TCR beta / delta</a></div><div class=\"lev3 toc-item\"><a href=\"#TCR-alpha-/-gamma\" data-toc-modified-id=\"TCR-alpha-/-gamma-2.1.2\"><span class=\"toc-item-num\">2.1.2&nbsp;&nbsp;</span>TCR alpha / gamma</a></div><div class=\"lev4 toc-item\"><a href=\"#Lineage-identities\" data-toc-modified-id=\"Lineage-identities-2.1.2.1\"><span class=\"toc-item-num\">2.1.2.1&nbsp;&nbsp;</span>Lineage identities</a></div><div class=\"lev1 toc-item\"><a href=\"#B-cells\" data-toc-modified-id=\"B-cells-3\"><span class=\"toc-item-num\">3&nbsp;&nbsp;</span>B cells</a></div><div class=\"lev2 toc-item\"><a href=\"#Gene-usage:-no-different-between-infected-and-uninfected-B-cells-(heavy-or-light)\" data-toc-modified-id=\"Gene-usage:-no-different-between-infected-and-uninfected-B-cells-(heavy-or-light)-3.1\"><span class=\"toc-item-num\">3.1&nbsp;&nbsp;</span>Gene usage: no different between infected and uninfected B cells (heavy or light)</a></div><div class=\"lev2 toc-item\"><a href=\"#V-identity:-infected-IgM-are-less-mutated\" data-toc-modified-id=\"V-identity:-infected-IgM-are-less-mutated-3.2\"><span class=\"toc-item-num\">3.2&nbsp;&nbsp;</span>V identity: infected IgM are less mutated</a></div><div class=\"lev2 toc-item\"><a href=\"#Paired-CDR3-heavy-/-light-chain-lengths\" data-toc-modified-id=\"Paired-CDR3-heavy-/-light-chain-lengths-3.3\"><span class=\"toc-item-num\">3.3&nbsp;&nbsp;</span>Paired CDR3 heavy / light chain lengths</a></div><div class=\"lev2 toc-item\"><a href=\"#Clonal-families\" data-toc-modified-id=\"Clonal-families-3.4\"><span class=\"toc-item-num\">3.4&nbsp;&nbsp;</span>Clonal families</a></div>"
   ]
  },
  {
   "cell_type": "code",
   "execution_count": 1,
   "metadata": {
    "collapsed": false
   },
   "outputs": [
    {
     "name": "stderr",
     "output_type": "stream",
     "text": [
      "/home/derek/resources/anaconda/lib/python2.7/site-packages/graph_tool/draw/cairo_draw.py:1468: RuntimeWarning: Error importing Gtk module: No module named gi; GTK+ drawing will not work.\n",
      "  warnings.warn(msg, RuntimeWarning)\n"
     ]
    }
   ],
   "source": [
    "from __future__ import division\n",
    "import numpy as np\n",
    "import pandas as pd\n",
    "import matplotlib.pyplot as plt\n",
    "import os\n",
    "import sys\n",
    "import seaborn as sns\n",
    "from Bio import SeqIO\n",
    "from Bio.Seq import Seq\n",
    "from itertools import combinations, product\n",
    "import Levenshtein\n",
    "import graph_tool.all as gt \n",
    "%matplotlib inline"
   ]
  },
  {
   "cell_type": "code",
   "execution_count": 2,
   "metadata": {
    "collapsed": true
   },
   "outputs": [],
   "source": [
    "import matplotlib as mpl\n",
    "# for exporting vector graphics text\n",
    "mpl.rcParams['pdf.fonttype'] = 42\n",
    "mpl.rcParams['ps.fonttype'] = 42\n",
    "\n",
    "# style\n",
    "sns.set_context('paper', font_scale=0.9)\n",
    "sns.set_style('whitegrid')"
   ]
  },
  {
   "cell_type": "markdown",
   "metadata": {},
   "source": [
    "# Loading"
   ]
  },
  {
   "cell_type": "code",
   "execution_count": 3,
   "metadata": {
    "collapsed": false
   },
   "outputs": [
    {
     "name": "stderr",
     "output_type": "stream",
     "text": [
      "Cloning into 'btreceptor'...\n"
     ]
    }
   ],
   "source": [
    "%%bash\n",
    "git clone https://github.com/dcroote/btreceptor\n",
    "# clone repo that contains B/TCR utility functions"
   ]
  },
  {
   "cell_type": "code",
   "execution_count": 4,
   "metadata": {
    "collapsed": true
   },
   "outputs": [],
   "source": [
    "sys.path.append('btreceptor/')  # default path to btreceptor repo cloned in cell above\n",
    "import btreceptor as btr"
   ]
  },
  {
   "cell_type": "code",
   "execution_count": 5,
   "metadata": {
    "collapsed": false
   },
   "outputs": [],
   "source": [
    "################################################\n",
    "# load long format aggregate assembly dataframes\n",
    "\n",
    "ab = pd.read_csv('../../data/tcell_ab_df.tsv', sep='\\t')  # alpha-beta t cell\n",
    "gd = pd.read_csv('../../data/tcell_gd_df.tsv', sep='\\t')  # gamma-delta t cell\n",
    "bc = pd.read_csv('../../data/bcell_df.tsv', sep='\\t')     # b cell\n",
    "\n",
    "# combined alpha-beta and gamma-delta dataframe\n",
    "tc = ab.append(gd).reset_index(drop=True)\n",
    "\n",
    "# list of all experiments (patient uids) in study\n",
    "all_exps = [10017011, 10017012, 10017013, 10017014, 10017015, 10017016, 10017017, 10017018, 10017021, 10017022]"
   ]
  },
  {
   "cell_type": "code",
   "execution_count": 6,
   "metadata": {
    "collapsed": false
   },
   "outputs": [],
   "source": [
    "#############\n",
    "# data checks\n",
    "\n",
    "# assert single heavy and light chain for each cell (beta & delta are heavy while alpha and gamma are light for T cells)\n",
    "for frame in [ab, gd, bc]:\n",
    "    assert frame.groupby('cell').apply(lambda x: x[~x.heavy].shape[0] == 1 & x[x.heavy].shape[0] == 1).all()\n",
    "\n",
    "# assert cells don't have a multiple types of TCR or have a TCR and BCR\n",
    "for f1, f2 in combinations([ab, gd, bc], 2):\n",
    "    assert not set(f1.cell) & set(f2.cell)"
   ]
  },
  {
   "cell_type": "code",
   "execution_count": null,
   "metadata": {
    "collapsed": true
   },
   "outputs": [],
   "source": []
  },
  {
   "cell_type": "markdown",
   "metadata": {},
   "source": [
    "# T cells"
   ]
  },
  {
   "cell_type": "markdown",
   "metadata": {},
   "source": [
    "## Clonal families"
   ]
  },
  {
   "cell_type": "code",
   "execution_count": 7,
   "metadata": {
    "collapsed": true
   },
   "outputs": [],
   "source": [
    "########################################\n",
    "# add node property columns for drawing\n",
    "\n",
    "# node stroke- alpha/beta have heavy stroke compared to delta/gamma\n",
    "tc['node_stroke'] = tc.c_region.apply(lambda x: 1.25 if x in ['TRA', 'TRB'] else 0.5)\n",
    "\n",
    "# node shape- disease status\n",
    "tcell_shape_dict = {'control': 'circle', 'dengue_fever': 'triangle', 'severe_dengue': 'square'}\n",
    "tc['node_shape'] = tc.disease_status.apply(lambda x: tcell_shape_dict[x])\n",
    "\n",
    "# node color- experiment (patient)\n",
    "set3_colors = sns.color_palette(\"Set3\", n_colors=11).as_hex()\n",
    "set3_colors.pop(1)  # get rid of horrible yellow\n",
    "\n",
    "tcell_color_dict = {k:v for k,v in zip(all_exps, set3_colors)}\n",
    "tc['node_color'] = tc.experiment.apply(lambda x: tcell_color_dict[x])\n",
    "\n",
    "# uncomment below to show experiments / colors:\n",
    "# print(all_exps)\n",
    "# sns.palplot(sns.color_palette([tcell_color_dict[x] for x in all_exps]))"
   ]
  },
  {
   "cell_type": "markdown",
   "metadata": {},
   "source": [
    "### TCR beta / delta"
   ]
  },
  {
   "cell_type": "code",
   "execution_count": 8,
   "metadata": {
    "collapsed": false
   },
   "outputs": [
    {
     "data": {
      "text/plain": [
       "1     721\n",
       "2      26\n",
       "3       8\n",
       "4       4\n",
       "5       1\n",
       "6       1\n",
       "8       1\n",
       "15      1\n",
       "Name: lineage, dtype: int64"
      ]
     },
     "execution_count": 8,
     "metadata": {},
     "output_type": "execute_result"
    }
   ],
   "source": [
    "# cluster on beta / delta\n",
    "bd_lins = btr.clustering.df_add_lineages(tc[tc.heavy], 0.8)\n",
    "\n",
    "bdvc = bd_lins.lineage.value_counts()\n",
    "bdvc.value_counts().sort_index()  # number of lineages with X members"
   ]
  },
  {
   "cell_type": "code",
   "execution_count": 9,
   "metadata": {
    "collapsed": false
   },
   "outputs": [
    {
     "name": "stdout",
     "output_type": "stream",
     "text": [
      "Unique CFs:\t42\n",
      "Unique cells:\t126\n"
     ]
    }
   ],
   "source": [
    "# multi member lineages\n",
    "bd_mmlins = bd_lins[(bd_lins.lineage.isin(bdvc[bdvc > 1].index))].copy().sort_values('lineage')\n",
    "\n",
    "print('Unique CFs:\\t{}'.format(len(bd_mmlins.lineage.unique())))\n",
    "print('Unique cells:\\t{}'.format(bd_mmlins.shape[0]))  # ... previously 192..."
   ]
  },
  {
   "cell_type": "code",
   "execution_count": 10,
   "metadata": {
    "collapsed": false
   },
   "outputs": [
    {
     "data": {
      "image/png": "[encoded data removed]",
      "text/plain": [
       "<IPython.core.display.Image object>"
      ]
     },
     "metadata": {},
     "output_type": "display_data"
    },
    {
     "data": {
      "text/plain": [
       "<matplotlib.figure.Figure at 0x7f37ded81f50>"
      ]
     },
     "metadata": {},
     "output_type": "display_data"
    }
   ],
   "source": [
    "node_dict = btr.drawing.df_generate_node_dict(bd_mmlins)\n",
    "\n",
    "f = plt.figure(figsize=(3,1.7))\n",
    "with sns.axes_style('white'):\n",
    "    btr.drawing.draw_gviz(node_dict, size_multiple=6, output_size=(300, 300))"
   ]
  },
  {
   "cell_type": "markdown",
   "metadata": {},
   "source": [
    "### TCR alpha / gamma"
   ]
  },
  {
   "cell_type": "code",
   "execution_count": 11,
   "metadata": {
    "collapsed": false
   },
   "outputs": [
    {
     "data": {
      "text/plain": [
       "1     613\n",
       "2      27\n",
       "3       4\n",
       "4       2\n",
       "5       2\n",
       "6       1\n",
       "8       1\n",
       "9       1\n",
       "14      1\n",
       "19      1\n",
       "36      1\n",
       "58      1\n",
       "Name: lineage, dtype: int64"
      ]
     },
     "execution_count": 11,
     "metadata": {},
     "output_type": "execute_result"
    }
   ],
   "source": [
    "# cluster on alpha / gamma\n",
    "ag_lins = btr.clustering.df_add_lineages(tc[~tc.heavy], 0.8)\n",
    "agvc = ag_lins.lineage.value_counts()\n",
    "agvc.value_counts().sort_index()  # number of lineages with X members"
   ]
  },
  {
   "cell_type": "code",
   "execution_count": 12,
   "metadata": {
    "collapsed": false
   },
   "outputs": [
    {
     "name": "stdout",
     "output_type": "stream",
     "text": [
      "Unique CFs:\t42\n",
      "Unique cells:\t234\n"
     ]
    }
   ],
   "source": [
    "# multi member lineages\n",
    "ag_mmlins = ag_lins[(ag_lins.lineage.isin(agvc[agvc > 1].index))].copy().sort_values('lineage')\n",
    "print('Unique CFs:\\t{}'.format(len(ag_mmlins.lineage.unique())))\n",
    "print('Unique cells:\\t{}'.format(ag_mmlins.shape[0]))  # ... previously 192..."
   ]
  },
  {
   "cell_type": "code",
   "execution_count": 13,
   "metadata": {
    "collapsed": false
   },
   "outputs": [
    {
     "data": {
      "image/png": "[encoded data removed]",
      "text/plain": [
       "<IPython.core.display.Image object>"
      ]
     },
     "metadata": {},
     "output_type": "display_data"
    },
    {
     "data": {
      "text/plain": [
       "<matplotlib.figure.Figure at 0x7f37d9fedd10>"
      ]
     },
     "metadata": {},
     "output_type": "display_data"
    }
   ],
   "source": [
    "ag_node_dict = btr.drawing.df_generate_node_dict(ag_mmlins)\n",
    "\n",
    "f = plt.figure(figsize=(3,1.7))\n",
    "with sns.axes_style('white'):\n",
    "    btr.drawing.draw_gviz(ag_node_dict, size_multiple=6, output_size=(300,300))"
   ]
  },
  {
   "cell_type": "markdown",
   "metadata": {},
   "source": [
    "#### Lineage identities"
   ]
  },
  {
   "cell_type": "code",
   "execution_count": 14,
   "metadata": {
    "collapsed": true
   },
   "outputs": [],
   "source": [
    "def call_mait(dfin):\n",
    "    \"\"\" Returns bool for whether lineage is MAIT i.e. has specific alpha V / J genes \"\"\"\n",
    "    mait_percent = ((dfin.v_call.str.startswith('TRAV1-2')) & ((dfin.j_call.str.startswith('TRAJ33')) | (dfin.j_call.str.startswith('TRAJ12')) | (dfin.j_call.str.startswith('TRAJ20')))).value_counts(normalize=True)\n",
    "    if True in mait_percent.index and mait_percent.loc[True] > 0.75:\n",
    "        return True\n",
    "    else:\n",
    "        return False"
   ]
  },
  {
   "cell_type": "code",
   "execution_count": 15,
   "metadata": {
    "collapsed": true
   },
   "outputs": [],
   "source": [
    "def call_lineage_chain(dfin):\n",
    "    c_region = dfin.c_region.unique()\n",
    "    if len(c_region) == 1:\n",
    "        return c_region[0]\n",
    "    else:\n",
    "        return ', '.join(c_region)"
   ]
  },
  {
   "cell_type": "code",
   "execution_count": 16,
   "metadata": {
    "collapsed": true
   },
   "outputs": [],
   "source": [
    "def call_inkt(dfin, complete_df):\n",
    "    \"\"\" iNKT defined by TRAV10-TRAJ18 / TRBV25-1 \n",
    "        Args:\n",
    "            dfin (pd.DataFrame): DataFrame subset to a given lineage\n",
    "            complete_df (pd.DataFrame): DataFrame containing BOTH chains\n",
    "                (since lineages are formed by heavy or light)\n",
    "    \"\"\"\n",
    "    is_inkt = False\n",
    "    \n",
    "    # check alpha\n",
    "    if dfin.v_call.str.contains('TRAV10').all() & dfin.j_call.str.contains('TRAJ18').all():\n",
    "        # check beta\n",
    "        corresponding_beta = complete_df[(complete_df.cell.isin(dfin.cell)) & (complete_df.c_region=='TRB')]\n",
    "        if corresponding_beta.v_call.str.contains('TRBV25').all():\n",
    "            is_inkt = True\n",
    "            \n",
    "    return is_inkt"
   ]
  },
  {
   "cell_type": "code",
   "execution_count": 17,
   "metadata": {
    "collapsed": false
   },
   "outputs": [
    {
     "data": {
      "text/html": [
       "<div>\n",
       "<style>\n",
       "    .dataframe thead tr:only-child th {\n",
       "        text-align: right;\n",
       "    }\n",
       "\n",
       "    .dataframe thead th {\n",
       "        text-align: left;\n",
       "    }\n",
       "\n",
       "    .dataframe tbody tr th {\n",
       "        vertical-align: top;\n",
       "    }\n",
       "</style>\n",
       "<table border=\"1\" class=\"dataframe\">\n",
       "  <thead>\n",
       "    <tr style=\"text-align: right;\">\n",
       "      <th></th>\n",
       "      <th>num_cells</th>\n",
       "      <th>chain</th>\n",
       "      <th>is_MAIT</th>\n",
       "      <th>is_iNKT</th>\n",
       "      <th>cnt_of_most_common_cdr3</th>\n",
       "      <th>most_common_cdr3</th>\n",
       "    </tr>\n",
       "    <tr>\n",
       "      <th>lineage</th>\n",
       "      <th></th>\n",
       "      <th></th>\n",
       "      <th></th>\n",
       "      <th></th>\n",
       "      <th></th>\n",
       "      <th></th>\n",
       "    </tr>\n",
       "  </thead>\n",
       "  <tbody>\n",
       "    <tr>\n",
       "      <th>21</th>\n",
       "      <td>58</td>\n",
       "      <td>TRA</td>\n",
       "      <td>True</td>\n",
       "      <td>False</td>\n",
       "      <td>17</td>\n",
       "      <td>AVVDSNYQLI</td>\n",
       "    </tr>\n",
       "    <tr>\n",
       "      <th>781</th>\n",
       "      <td>36</td>\n",
       "      <td>TRG</td>\n",
       "      <td>False</td>\n",
       "      <td>False</td>\n",
       "      <td>7</td>\n",
       "      <td>ALWEVQELGKKIKV</td>\n",
       "    </tr>\n",
       "    <tr>\n",
       "      <th>820</th>\n",
       "      <td>19</td>\n",
       "      <td>TRG</td>\n",
       "      <td>False</td>\n",
       "      <td>False</td>\n",
       "      <td>2</td>\n",
       "      <td>ALWEVLQELGKKIKV</td>\n",
       "    </tr>\n",
       "    <tr>\n",
       "      <th>85</th>\n",
       "      <td>14</td>\n",
       "      <td>TRA</td>\n",
       "      <td>False</td>\n",
       "      <td>True</td>\n",
       "      <td>12</td>\n",
       "      <td>VVSDRGSTLGRLY</td>\n",
       "    </tr>\n",
       "    <tr>\n",
       "      <th>772</th>\n",
       "      <td>9</td>\n",
       "      <td>TRG</td>\n",
       "      <td>False</td>\n",
       "      <td>False</td>\n",
       "      <td>2</td>\n",
       "      <td>ALWVQELGKKIKV</td>\n",
       "    </tr>\n",
       "    <tr>\n",
       "      <th>640</th>\n",
       "      <td>8</td>\n",
       "      <td>TRA</td>\n",
       "      <td>False</td>\n",
       "      <td>False</td>\n",
       "      <td>8</td>\n",
       "      <td>ALAPPNQAGTALI</td>\n",
       "    </tr>\n",
       "    <tr>\n",
       "      <th>3</th>\n",
       "      <td>6</td>\n",
       "      <td>TRA</td>\n",
       "      <td>True</td>\n",
       "      <td>False</td>\n",
       "      <td>2</td>\n",
       "      <td>AVMDSSYKLI</td>\n",
       "    </tr>\n",
       "    <tr>\n",
       "      <th>334</th>\n",
       "      <td>5</td>\n",
       "      <td>TRA</td>\n",
       "      <td>False</td>\n",
       "      <td>False</td>\n",
       "      <td>5</td>\n",
       "      <td>ALSEARNFNKFY</td>\n",
       "    </tr>\n",
       "  </tbody>\n",
       "</table>\n",
       "</div>"
      ],
      "text/plain": [
       "         num_cells chain  is_MAIT  is_iNKT  cnt_of_most_common_cdr3  \\\n",
       "lineage                                                               \n",
       "21              58   TRA     True    False                       17   \n",
       "781             36   TRG    False    False                        7   \n",
       "820             19   TRG    False    False                        2   \n",
       "85              14   TRA    False     True                       12   \n",
       "772              9   TRG    False    False                        2   \n",
       "640              8   TRA    False    False                        8   \n",
       "3                6   TRA     True    False                        2   \n",
       "334              5   TRA    False    False                        5   \n",
       "\n",
       "        most_common_cdr3  \n",
       "lineage                   \n",
       "21            AVVDSNYQLI  \n",
       "781       ALWEVQELGKKIKV  \n",
       "820      ALWEVLQELGKKIKV  \n",
       "85         VVSDRGSTLGRLY  \n",
       "772        ALWVQELGKKIKV  \n",
       "640        ALAPPNQAGTALI  \n",
       "3             AVMDSSYKLI  \n",
       "334         ALSEARNFNKFY  "
      ]
     },
     "execution_count": 17,
     "metadata": {},
     "output_type": "execute_result"
    }
   ],
   "source": [
    "lineage_info = pd.concat([ag_mmlins.lineage.value_counts().rename('num_cells'),\n",
    "                          ag_mmlins.groupby('lineage').apply(call_lineage_chain).rename('chain'),\n",
    "                          ag_mmlins.groupby('lineage').apply(call_mait).rename('is_MAIT'),\n",
    "                          ag_mmlins.groupby('lineage').apply(call_inkt, complete_df=tc).rename('is_iNKT'),\n",
    "                          ag_mmlins.groupby('lineage').apply(lambda x: pd.Series({'most_common_cdr3': x.cdr3aa.value_counts().index[0], 'cnt_of_most_common_cdr3': x.cdr3aa.value_counts().values[0]}))\n",
    "                         ], axis=1).sort_values('num_cells', ascending=False).head(8)\n",
    "lineage_info"
   ]
  },
  {
   "cell_type": "code",
   "execution_count": null,
   "metadata": {
    "collapsed": true
   },
   "outputs": [],
   "source": []
  },
  {
   "cell_type": "markdown",
   "metadata": {},
   "source": [
    "# B cells"
   ]
  },
  {
   "cell_type": "markdown",
   "metadata": {},
   "source": [
    "## Gene usage: no different between infected and uninfected B cells (heavy or light)"
   ]
  },
  {
   "cell_type": "code",
   "execution_count": 18,
   "metadata": {
    "collapsed": true
   },
   "outputs": [],
   "source": [
    "def gene_usage_plot(vcbc, title='', figpath=None):\n",
    "    \n",
    "    gusage = vcbc.copy()\n",
    "    _vmax = gusage.v_genenum.max()\n",
    "    _jmax = gusage.j_genenum.max()\n",
    "\n",
    "    f,ax = plt.subplots(1,2, figsize=(3,1.4), sharex=True, sharey=True)\n",
    "    ax=ax.ravel()\n",
    "\n",
    "    for c,virus in enumerate([True, False]):\n",
    "        pivoted = gusage[gusage.has_virus == virus].pivot_table(index='j_genenum', columns='v_genenum', values='cnt').sort_index(ascending=False)\n",
    "        pivoted = pivoted.reindex(columns=range(1,_vmax+1)).reindex(index=range(_jmax, 0, -1))\n",
    "        pivoted.fillna(0, inplace=True)\n",
    "        pivoted.index.name = 'J gene'\n",
    "        pivoted.columns.name = 'V gene'\n",
    "        \n",
    "        if c==1:\n",
    "            cbarkws = {'label': 'Number of cells'}\n",
    "        else:\n",
    "            cbarkws = {}\n",
    "        \n",
    "        sns.heatmap(data=pivoted, cmap='Reds', ax=ax[c], cbar_kws=cbarkws, mask=pivoted==0)\n",
    "        for _, spine in ax[c].spines.items():\n",
    "            spine.set_visible(True)\n",
    "        \n",
    "        if c==1:\n",
    "            ax[c].set_ylabel('')\n",
    "\n",
    "        if virus:\n",
    "            ax[c].set_title('Virus')\n",
    "        else:\n",
    "            ax[c].set_title('No virus')\n",
    "\n",
    "    f.tight_layout()\n",
    "    f.suptitle(title, y=1.05)\n",
    "    \n",
    "    if figpath:\n",
    "        for fmt in ['pdf','png','svg']:\n",
    "            f.savefig('{}.{}'.format(figpath, fmt))"
   ]
  },
  {
   "cell_type": "code",
   "execution_count": 19,
   "metadata": {
    "collapsed": false
   },
   "outputs": [
    {
     "data": {
      "image/png": "[encoded data removed]",
      "text/plain": [
       "<matplotlib.figure.Figure at 0x7f37d9fedb90>"
      ]
     },
     "metadata": {},
     "output_type": "display_data"
    }
   ],
   "source": [
    "heavy_gene_usage = bc[bc.heavy].groupby(['has_virus','v_genenum']).j_genenum.value_counts().reset_index(name='cnt')\n",
    "gene_usage_plot(heavy_gene_usage, title='Heavy chain gene usage')"
   ]
  },
  {
   "cell_type": "code",
   "execution_count": 20,
   "metadata": {
    "collapsed": false
   },
   "outputs": [
    {
     "data": {
      "image/png": "[encoded data removed]",
      "text/plain": [
       "<matplotlib.figure.Figure at 0x7f37dac84450>"
      ]
     },
     "metadata": {},
     "output_type": "display_data"
    }
   ],
   "source": [
    "########\n",
    "# KAPPA\n",
    "\n",
    "kappa_gene_usage = bc[bc.c_region=='IGKC'].groupby(['has_virus','v_genenum']).j_genenum.value_counts().reset_index(name='cnt')\n",
    "gene_usage_plot(kappa_gene_usage, title='Kappa light chain gene usage')"
   ]
  },
  {
   "cell_type": "code",
   "execution_count": 21,
   "metadata": {
    "collapsed": false
   },
   "outputs": [
    {
     "data": {
      "image/png": "[encoded data removed]",
      "text/plain": [
       "<matplotlib.figure.Figure at 0x7f37daed1450>"
      ]
     },
     "metadata": {},
     "output_type": "display_data"
    }
   ],
   "source": [
    "########\n",
    "# LAMBDA\n",
    "\n",
    "lambda_gene_usage = bc[bc.c_region=='IGLC'].groupby(['has_virus','v_genenum']).j_genenum.value_counts().reset_index(name='cnt')\n",
    "gene_usage_plot(lambda_gene_usage, title='Lambda light chain gene usage')"
   ]
  },
  {
   "cell_type": "markdown",
   "metadata": {},
   "source": [
    "## V identity: infected IgM are less mutated"
   ]
  },
  {
   "cell_type": "code",
   "execution_count": 22,
   "metadata": {
    "collapsed": false
   },
   "outputs": [
    {
     "data": {
      "image/png": "[encoded data removed]",
      "text/plain": [
       "<matplotlib.figure.Figure at 0x7f37da6ea490>"
      ]
     },
     "metadata": {},
     "output_type": "display_data"
    }
   ],
   "source": [
    "f,ax = plt.subplots(figsize=(2,1.7))\n",
    "for virus in [True, False]:\n",
    "    tmp = bc[(bc.c_region=='IGHM') & (bc.has_virus==virus) & (bc.experiment.isin([10017016, 10017022]))].sort_values('v_identity').v_identity.reset_index(drop=True)\n",
    "    tmp.index /= tmp.shape[0] # cumulative frac\n",
    "    tmp.plot(ax=ax)\n",
    "\n",
    "# IgG1 for reference\n",
    "tmp = bc[(bc.c_region=='IGHG1') & (bc.experiment.isin([10017016, 10017022]))].sort_values('v_identity').v_identity.reset_index(drop=True)\n",
    "tmp.index /= tmp.shape[0]\n",
    "tmp.plot(ax=ax)\n",
    "\n",
    "ax.legend(['IgM virus', 'IgM no virus', 'IgG'], loc=4, bbox_to_anchor=(1.1,-.05))\n",
    "ax.set_xlabel('Cumulative cell fraction')\n",
    "ax.set_ylabel('V gene identity')\n",
    "\n",
    "sns.despine()\n",
    "f.tight_layout()"
   ]
  },
  {
   "cell_type": "markdown",
   "metadata": {},
   "source": [
    "## Paired CDR3 heavy / light chain lengths"
   ]
  },
  {
   "cell_type": "code",
   "execution_count": 23,
   "metadata": {
    "collapsed": false
   },
   "outputs": [
    {
     "data": {
      "image/png": "[encoded data removed]",
      "text/plain": [
       "<matplotlib.figure.Figure at 0x7f37da6c2c10>"
      ]
     },
     "metadata": {},
     "output_type": "display_data"
    }
   ],
   "source": [
    "f,ax = plt.subplots(1,2, figsize=(3,3), sharex=True, sharey=True)\n",
    "ax=ax.ravel()\n",
    "\n",
    "# min / max ranges for heavy and light\n",
    "hmax = bc[bc.heavy].cdr3aa_len.max()\n",
    "hmin = bc[bc.heavy].cdr3aa_len.min()\n",
    "lmax = bc[~bc.heavy].cdr3aa_len.max()\n",
    "lmin = bc[~bc.heavy].cdr3aa_len.min()\n",
    "\n",
    "for c, virus in enumerate([True, False]):\n",
    "    \n",
    "    paired = bc[bc.has_virus==virus].pivot(index='cell', columns='heavy', values='cdr3aa')\n",
    "    paired.rename(columns={True: 'hcdr3', False: 'lcdr3'}, inplace=True)\n",
    "    paired['hcl'] = paired.hcdr3.str.len()\n",
    "    paired['lcl'] = paired.lcdr3.str.len()\n",
    "    ppt = paired.groupby('hcl').lcl.value_counts().reset_index(name='cnt').pivot_table(index='hcl', columns='lcl', values='cnt').fillna(0)\n",
    "    # add missing rows / columns by reindexing, filling with zero\n",
    "    ppt = ppt.reindex(index=range(hmax, hmin-1, -1), columns=range(lmin, lmax+1), fill_value=0)\n",
    "    cbkws = {'shrink':0.5}\n",
    "    if c==1:\n",
    "        cbkws.update({'label': 'Number of antibodies'})\n",
    "    sns.heatmap(ppt, square=True, cmap=\"Reds\", ax=ax[c], cbar_kws=cbkws, mask=ppt==0)\n",
    "    \n",
    "    for _, spine in ax[c].spines.items():\n",
    "        spine.set_visible(True)\n",
    "    \n",
    "    if virus:\n",
    "        ax[c].set_title('Virus')\n",
    "    else:\n",
    "        ax[c].set_title('No virus')\n",
    "    \n",
    "ax[1].set_ylabel('')\n",
    "ax[0].set_ylabel('Heavy chain CDR3 length')\n",
    "for i in [0,1]:\n",
    "    ax[i].set_xlabel('Light chain\\nCDR3 length')\n",
    "ax[0].set_yticklabels(ax[0].get_yticklabels()[::2])\n",
    "ax[0].set_yticks(ax[0].get_yticks()[::2])\n",
    "\n",
    "f.tight_layout()"
   ]
  },
  {
   "cell_type": "markdown",
   "metadata": {},
   "source": [
    "## Clonal families"
   ]
  },
  {
   "cell_type": "code",
   "execution_count": 24,
   "metadata": {
    "collapsed": false
   },
   "outputs": [],
   "source": [
    "########################################\n",
    "# generate desired node property columns\n",
    "\n",
    "# node shape- experiment (patient)\n",
    "bcell_shape_dict = {10017014: 'circle', 10017015: 'triangle'}  # only these patients have cells in multi-member lineages\n",
    "bc['node_shape'] = bc.experiment.apply(lambda x: bcell_shape_dict[x] if x in bcell_shape_dict else 'square')\n",
    "\n",
    "isotype_color_dict = {'germline':'black', 'IGHA1': '#6EAD7E', 'IGHA2': '#AADDBF', 'IGHG1': '#885F89', 'IGHG2': '#CC90CE', 'IGHG3': '#FBB5FF',\n",
    "                      'IGHE': '#F98174', 'IGHG4': '#81B1D1', 'IGHM': '#898989', 'IGHD': '#C6C6C6',\n",
    "                      'IGLC': '#C0C0C0', 'IGKC': '#404040'}\n",
    "\n",
    "bc['node_color'] = bc.c_region.apply(lambda x: isotype_color_dict[x])\n",
    "\n",
    "bc['node_size'] = 1 - bc.v_identity + 0.01\n",
    "\n",
    "# uncomment below to show experiments / colors:\n",
    "# print(all_exps)\n",
    "# sns.palplot(sns.color_palette([tcell_color_dict[x] for x in all_exps]))"
   ]
  },
  {
   "cell_type": "code",
   "execution_count": 25,
   "metadata": {
    "collapsed": false
   },
   "outputs": [
    {
     "data": {
      "text/plain": [
       "1    1440\n",
       "2      11\n",
       "3       2\n",
       "6       2\n",
       "Name: lineage, dtype: int64"
      ]
     },
     "execution_count": 25,
     "metadata": {},
     "output_type": "execute_result"
    }
   ],
   "source": [
    "# cluster antibody heavy chain\n",
    "bc_lins = btr.clustering.df_add_lineages(bc[bc.heavy], 0.8)\n",
    "bcvc = bc_lins.lineage.value_counts()\n",
    "bcvc.value_counts().sort_index()  # number of lineages with X members"
   ]
  },
  {
   "cell_type": "code",
   "execution_count": 26,
   "metadata": {
    "collapsed": false
   },
   "outputs": [
    {
     "name": "stdout",
     "output_type": "stream",
     "text": [
      "Unique CFs:\t15\n",
      "Unique cells:\t40\n"
     ]
    }
   ],
   "source": [
    "# multi member lineages\n",
    "bc_mmlins = bc_lins[(bc_lins.lineage.isin(bcvc[bcvc > 1].index))].copy().sort_values('lineage')\n",
    "print('Unique CFs:\\t{}'.format(len(bc_mmlins.lineage.unique())))\n",
    "print('Unique cells:\\t{}'.format(bc_mmlins.shape[0]))  # ... previously 192..."
   ]
  },
  {
   "cell_type": "code",
   "execution_count": 27,
   "metadata": {
    "collapsed": false
   },
   "outputs": [
    {
     "data": {
      "text/plain": [
       "10017014    30\n",
       "10017015    10\n",
       "Name: experiment, dtype: int64"
      ]
     },
     "execution_count": 27,
     "metadata": {},
     "output_type": "execute_result"
    }
   ],
   "source": [
    "bc_mmlins.experiment.value_counts()"
   ]
  },
  {
   "cell_type": "code",
   "execution_count": 28,
   "metadata": {
    "collapsed": false
   },
   "outputs": [
    {
     "data": {
      "image/png": "[encoded data removed]",
      "text/plain": [
       "<IPython.core.display.Image object>"
      ]
     },
     "metadata": {},
     "output_type": "display_data"
    },
    {
     "data": {
      "text/plain": [
       "<matplotlib.figure.Figure at 0x7f37da63ae50>"
      ]
     },
     "metadata": {},
     "output_type": "display_data"
    }
   ],
   "source": [
    "bc_node_dict = btr.drawing.df_generate_node_dict(bc_mmlins)\n",
    "\n",
    "f = plt.figure(figsize=(3,1.7))\n",
    "with sns.axes_style('white'):\n",
    "    btr.drawing.draw_gviz(bc_node_dict, size_multiple=180, output_size=(200,200))"
   ]
  },
  {
   "cell_type": "code",
   "execution_count": null,
   "metadata": {
    "collapsed": true
   },
   "outputs": [],
   "source": []
  },
  {
   "cell_type": "code",
   "execution_count": null,
   "metadata": {
    "collapsed": true
   },
   "outputs": [],
   "source": []
  }
 ],
 "metadata": {
  "anaconda-cloud": {},
  "kernelspec": {
   "display_name": "Python [default]",
   "language": "python",
   "name": "python2"
  },
  "language_info": {
   "codemirror_mode": {
    "name": "ipython",
    "version": 2
   },
   "file_extension": ".py",
   "mimetype": "text/x-python",
   "name": "python",
   "nbconvert_exporter": "python",
   "pygments_lexer": "ipython2",
   "version": "2.7.12"
  },
  "nav_menu": {},
  "toc": {
   "navigate_menu": true,
   "number_sections": true,
   "sideBar": false,
   "threshold": 6,
   "toc_cell": true,
   "toc_section_display": "block",
   "toc_window_display": false
  }
 },
 "nbformat": 4,
 "nbformat_minor": 1
}
